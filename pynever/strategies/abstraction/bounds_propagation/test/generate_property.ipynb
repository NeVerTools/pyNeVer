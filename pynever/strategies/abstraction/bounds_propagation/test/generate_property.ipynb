{
 "cells": [
  {
   "cell_type": "code",
   "id": "initial_id",
   "metadata": {
    "collapsed": true,
    "ExecuteTime": {
     "end_time": "2025-02-03T09:11:25.730558Z",
     "start_time": "2025-02-03T09:11:25.629797Z"
    }
   },
   "source": [
    "import os\n",
    "import numpy as np\n",
    "\n",
    "\n",
    "def generate_lc_props(eps_noise: float, delta_tol: float, io_pairs: list, folder_path: str):\n",
    "    # Property: x_i - eps_noise <= X_i <= x_i + eps_noise\n",
    "    #           y_j - delta_tol <= Y_j <= y_j + delta_tol\n",
    "\n",
    "    # generate folder for properties if it doesn't exist\n",
    "    os.makedirs(folder_path, exist_ok=True)\n",
    "\n",
    "    i = 0\n",
    "    for pair in io_pairs:\n",
    "        if isinstance(pair[0], np.ndarray):\n",
    "            pair_0 = pair[0].tolist()\n",
    "        elif isinstance(pair[0], list):\n",
    "            pair_0 = pair[0]\n",
    "        else:\n",
    "            raise ValueError(\"Input sample must be either numpy array or list.\")\n",
    "\n",
    "        n_inputs = len(pair_0)\n",
    "        n_outputs = len(pair[1])\n",
    "\n",
    "        with open(f'{folder_path}/loc_rob_property_{i}.vnnlib', 'w') as prop_file:\n",
    "            for n in range(n_inputs):\n",
    "                prop_file.write(f'(declare-const X_{n} Real)\\n')\n",
    "            prop_file.write('\\n')\n",
    "\n",
    "            for n in range(n_outputs):\n",
    "                prop_file.write(f'(declare-const Y_{n} Real)\\n')\n",
    "            prop_file.write('\\n')\n",
    "\n",
    "            for n in range(n_inputs):\n",
    "                prop_file.write(f'(assert (>= X_{n} {pair[0][n] - eps_noise}))\\n')\n",
    "                prop_file.write(f'(assert (<= X_{n} {pair[0][n] + eps_noise}))\\n')\n",
    "            prop_file.write('\\n')\n",
    "\n",
    "            for n in range(n_outputs):\n",
    "                prop_file.write(f'(assert (>= Y_{n} {pair[1][n] - delta_tol}))\\n')\n",
    "                prop_file.write(f'(assert (<= Y_{n} {pair[1][n] + delta_tol}))\\n')\n",
    "\n",
    "        i += 1\n"
   ],
   "outputs": [],
   "execution_count": 1
  },
  {
   "metadata": {
    "ExecuteTime": {
     "end_time": "2025-02-03T09:12:45.910438Z",
     "start_time": "2025-02-03T09:12:45.903437Z"
    }
   },
   "cell_type": "code",
   "source": [
    "input = np.ones(28*28) * 0.5\n",
    "eps_noise = 0.5\n",
    "output = np.ones(10)\n",
    "delta_tol = 0.6\n",
    "io_pairs = []\n",
    "io_pairs.append((input, output))\n",
    "\n",
    "generate_lc_props(eps_noise, delta_tol, io_pairs, \"test\")\n",
    "\n"
   ],
   "id": "2466b6325f15494a",
   "outputs": [],
   "execution_count": 3
  }
 ],
 "metadata": {
  "kernelspec": {
   "display_name": "Python 3",
   "language": "python",
   "name": "python3"
  },
  "language_info": {
   "codemirror_mode": {
    "name": "ipython",
    "version": 2
   },
   "file_extension": ".py",
   "mimetype": "text/x-python",
   "name": "python",
   "nbconvert_exporter": "python",
   "pygments_lexer": "ipython2",
   "version": "2.7.6"
  }
 },
 "nbformat": 4,
 "nbformat_minor": 5
}

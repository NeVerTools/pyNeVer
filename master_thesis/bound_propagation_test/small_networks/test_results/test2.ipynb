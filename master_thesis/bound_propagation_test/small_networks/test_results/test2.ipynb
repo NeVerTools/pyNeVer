{
 "cells": [
  {
   "cell_type": "code",
   "execution_count": 194,
   "metadata": {
    "collapsed": true,
    "ExecuteTime": {
     "start_time": "2023-05-08T15:40:39.278906Z",
     "end_time": "2023-05-08T15:40:39.292338Z"
    }
   },
   "outputs": [],
   "source": [
    "file = open('fc_bounds.txt', 'r').read()"
   ]
  },
  {
   "cell_type": "code",
   "execution_count": 195,
   "outputs": [
    {
     "name": "stdout",
     "output_type": "stream",
     "text": [
      "ABST_FC_1_lower&ABST_FC_1_upper\n",
      "[-2.9723802475067838, -0.5381407288348492, -0.864335068873423, -0.5699500124377899, -0.2553212432964607, -0.5758722528790382, -0.5240554147513623]\n",
      "[2.9723802475067838, 0.5381407288348492, 0.864335068873423, 0.5699500124377899, 0.2553212432964607, 0.5758722528790382, 0.5240554147513623]\n",
      "ABST_ReLU_1_lower&ABST_ReLU_1_upper\n",
      "[-6.600009977446106e-16, 0, 0, 0, 0, 0, 0]\n",
      "[2.9723802475067838, 0.5381407288348492, 0.864335068873423, 0.5699500124377899, 0.2553212432964607, 0.5758722528790382, 0.5240554147513623]\n",
      "ABST_FC_2_lower&ABST_FC_2_upper\n",
      "[-0.5842265395490812, -1.1771558318493263, -1.3152873563910719, -1.4063833848818827, -3.7026378121028305, -0.5276330342272116, -0.8697485652147733]\n",
      "[0.8662046802750725, 2.01491355725961, 3.33125277145488, 0.8384162222693902, 1.5017910012033475, 0.8641039375795978, 1.0508897773847845]\n",
      "ABST_ReLU_2_lower&ABST_ReLU_2_upper\n",
      "[-6.46987690610376e-16, 0, 0, 0, 0, 0, 0]\n",
      "[0.8662046802750725, 2.0149135572596104, 3.33125277145488, 0.8384162222693902, 1.5017910012033475, 0.8641039375795978, 1.0508897773847845]\n",
      "ABST_FC_3_lower&ABST_FC_3_upper\n",
      "[-2.6209628370323337, -1.9114707685356294]\n",
      "[1.02556824559363, 0.09781291571699473]\n",
      "\n"
     ]
    }
   ],
   "source": [
    "print(file)"
   ],
   "metadata": {
    "collapsed": false,
    "ExecuteTime": {
     "start_time": "2023-05-08T15:40:39.279974Z",
     "end_time": "2023-05-08T15:40:39.292938Z"
    }
   }
  },
  {
   "cell_type": "code",
   "execution_count": 196,
   "outputs": [
    {
     "name": "stdout",
     "output_type": "stream",
     "text": [
      "['ABST_FC_1_lower&ABST_FC_1_upper', '[-2.9723802475067838, -0.5381407288348492, -0.864335068873423, -0.5699500124377899, -0.2553212432964607, -0.5758722528790382, -0.5240554147513623]', '[2.9723802475067838, 0.5381407288348492, 0.864335068873423, 0.5699500124377899, 0.2553212432964607, 0.5758722528790382, 0.5240554147513623]', 'ABST_ReLU_1_lower&ABST_ReLU_1_upper', '[-6.600009977446106e-16, 0, 0, 0, 0, 0, 0]', '[2.9723802475067838, 0.5381407288348492, 0.864335068873423, 0.5699500124377899, 0.2553212432964607, 0.5758722528790382, 0.5240554147513623]', 'ABST_FC_2_lower&ABST_FC_2_upper', '[-0.5842265395490812, -1.1771558318493263, -1.3152873563910719, -1.4063833848818827, -3.7026378121028305, -0.5276330342272116, -0.8697485652147733]', '[0.8662046802750725, 2.01491355725961, 3.33125277145488, 0.8384162222693902, 1.5017910012033475, 0.8641039375795978, 1.0508897773847845]', 'ABST_ReLU_2_lower&ABST_ReLU_2_upper', '[-6.46987690610376e-16, 0, 0, 0, 0, 0, 0]', '[0.8662046802750725, 2.0149135572596104, 3.33125277145488, 0.8384162222693902, 1.5017910012033475, 0.8641039375795978, 1.0508897773847845]', 'ABST_FC_3_lower&ABST_FC_3_upper', '[-2.6209628370323337, -1.9114707685356294]', '[1.02556824559363, 0.09781291571699473]', '']\n"
     ]
    }
   ],
   "source": [
    "list_of_rows = file.split('\\n')\n",
    "print(list_of_rows)"
   ],
   "metadata": {
    "collapsed": false,
    "ExecuteTime": {
     "start_time": "2023-05-08T15:40:39.283320Z",
     "end_time": "2023-05-08T15:40:39.293330Z"
    }
   }
  },
  {
   "cell_type": "code",
   "execution_count": 197,
   "outputs": [],
   "source": [
    "import math\n",
    "def fill_with_nan(lst, length):\n",
    "    result = lst.copy()\n",
    "    while len(result) < length:\n",
    "        result.append(math.nan)\n",
    "    return result"
   ],
   "metadata": {
    "collapsed": false,
    "ExecuteTime": {
     "start_time": "2023-05-08T15:40:39.286136Z",
     "end_time": "2023-05-08T15:40:39.293452Z"
    }
   }
  },
  {
   "cell_type": "code",
   "execution_count": 198,
   "outputs": [
    {
     "name": "stdout",
     "output_type": "stream",
     "text": [
      "['ABST_FC_1_lower&ABST_FC_1_upper', '[-2.9723802475067838, -0.5381407288348492, -0.864335068873423, -0.5699500124377899, -0.2553212432964607, -0.5758722528790382, -0.5240554147513623]', '[2.9723802475067838, 0.5381407288348492, 0.864335068873423, 0.5699500124377899, 0.2553212432964607, 0.5758722528790382, 0.5240554147513623]', 'ABST_ReLU_1_lower&ABST_ReLU_1_upper', '[-6.600009977446106e-16, 0, 0, 0, 0, 0, 0]', '[2.9723802475067838, 0.5381407288348492, 0.864335068873423, 0.5699500124377899, 0.2553212432964607, 0.5758722528790382, 0.5240554147513623]', 'ABST_FC_2_lower&ABST_FC_2_upper', '[-0.5842265395490812, -1.1771558318493263, -1.3152873563910719, -1.4063833848818827, -3.7026378121028305, -0.5276330342272116, -0.8697485652147733]', '[0.8662046802750725, 2.01491355725961, 3.33125277145488, 0.8384162222693902, 1.5017910012033475, 0.8641039375795978, 1.0508897773847845]', 'ABST_ReLU_2_lower&ABST_ReLU_2_upper', '[-6.46987690610376e-16, 0, 0, 0, 0, 0, 0]', '[0.8662046802750725, 2.0149135572596104, 3.33125277145488, 0.8384162222693902, 1.5017910012033475, 0.8641039375795978, 1.0508897773847845]', 'ABST_FC_3_lower&ABST_FC_3_upper', '[-2.6209628370323337, -1.9114707685356294]', '[1.02556824559363, 0.09781291571699473]', '']\n"
     ]
    }
   ],
   "source": [
    "list_of_labels = list()\n",
    "list_of_lower_bounds = list()\n",
    "list_of_upper_bounds = list()\n",
    "print(list_of_rows)\n",
    "\n",
    "for i, element in enumerate(list_of_rows):\n",
    "    if i % 3 == 0:\n",
    "        if element != \"\":\n",
    "            lower_label = element.split('&')[0]\n",
    "            upper_label = element.split('&')[1]\n",
    "            list_of_labels.append(lower_label)\n",
    "            list_of_labels.append(upper_label)\n",
    "    elif i % 3 == 1:\n",
    "        list_of_lower_bounds.append(element)\n",
    "    else:\n",
    "        list_of_upper_bounds.append(element)\n",
    "\n",
    "list_of_labels = [x for x in list_of_labels if x != '']\n",
    "list_of_lower_bounds = [x for x in list_of_lower_bounds if x != '']\n",
    "list_of_upper_bounds = [x for x in list_of_upper_bounds if x != '']\n",
    "\n",
    "list_of_lower_bounds = [list(map(float, x.strip('[]').split(','))) for x in list_of_lower_bounds]\n",
    "list_of_upper_bounds = [list(map(float, x.strip('[]').split(','))) for x in list_of_upper_bounds]\n",
    "\n",
    "max_len = len(max(list_of_upper_bounds, key=len))\n",
    "\n",
    "list_of_lower_bounds = [fill_with_nan(x, max_len) for x in list_of_lower_bounds]\n",
    "list_of_upper_bounds = [fill_with_nan(x, max_len) for x in list_of_upper_bounds]\n"
   ],
   "metadata": {
    "collapsed": false,
    "ExecuteTime": {
     "start_time": "2023-05-08T15:40:39.292713Z",
     "end_time": "2023-05-08T15:40:39.300035Z"
    }
   }
  },
  {
   "cell_type": "code",
   "execution_count": 199,
   "outputs": [
    {
     "name": "stdout",
     "output_type": "stream",
     "text": [
      "['ABST_FC_1_lower', 'ABST_FC_1_upper', 'ABST_ReLU_1_lower', 'ABST_ReLU_1_upper', 'ABST_FC_2_lower', 'ABST_FC_2_upper', 'ABST_ReLU_2_lower', 'ABST_ReLU_2_upper', 'ABST_FC_3_lower', 'ABST_FC_3_upper']\n",
      "[[-2.9723802475067838, -0.5381407288348492, -0.864335068873423, -0.5699500124377899, -0.2553212432964607, -0.5758722528790382, -0.5240554147513623], [-6.600009977446106e-16, 0.0, 0.0, 0.0, 0.0, 0.0, 0.0], [-0.5842265395490812, -1.1771558318493263, -1.3152873563910719, -1.4063833848818827, -3.7026378121028305, -0.5276330342272116, -0.8697485652147733], [-6.46987690610376e-16, 0.0, 0.0, 0.0, 0.0, 0.0, 0.0], [-2.6209628370323337, -1.9114707685356294, nan, nan, nan, nan, nan]]\n"
     ]
    }
   ],
   "source": [
    "print(list_of_labels)\n",
    "print(list_of_lower_bounds)\n",
    "#print(list_of_upper_bounds)"
   ],
   "metadata": {
    "collapsed": false,
    "ExecuteTime": {
     "start_time": "2023-05-08T15:40:39.296143Z",
     "end_time": "2023-05-08T15:40:39.300303Z"
    }
   }
  },
  {
   "cell_type": "code",
   "execution_count": 200,
   "outputs": [],
   "source": [
    "import csv\n",
    "\n"
   ],
   "metadata": {
    "collapsed": false,
    "ExecuteTime": {
     "start_time": "2023-05-08T15:40:39.299619Z",
     "end_time": "2023-05-08T15:40:39.302537Z"
    }
   }
  }
 ],
 "metadata": {
  "kernelspec": {
   "display_name": "Python 3",
   "language": "python",
   "name": "python3"
  },
  "language_info": {
   "codemirror_mode": {
    "name": "ipython",
    "version": 2
   },
   "file_extension": ".py",
   "mimetype": "text/x-python",
   "name": "python",
   "nbconvert_exporter": "python",
   "pygments_lexer": "ipython2",
   "version": "2.7.6"
  }
 },
 "nbformat": 4,
 "nbformat_minor": 0
}

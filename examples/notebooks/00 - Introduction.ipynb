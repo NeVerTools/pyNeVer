{
 "cells": [
  {
   "metadata": {},
   "cell_type": "markdown",
   "source": [
    "# Intrdocution to _pyNeVer_\n",
    "\n",
    "This notebook illustrates the main features of pyNeVer for the design, training and verification of a neural network"
   ],
   "id": "7386e4bcb1b4c027"
  },
  {
   "metadata": {
    "jupyter": {
     "is_executing": true
    }
   },
   "cell_type": "code",
   "source": "from pynever.networks import SequentialNetwork",
   "id": "b63800010ce3b95a",
   "outputs": [],
   "execution_count": null
  },
  {
   "metadata": {},
   "cell_type": "markdown",
   "source": "The module __networks__ contains the classes SequentialNetwork and AcyclicNetwork to represent feed-forward and residual neural networks, respectively",
   "id": "180d25f1124192a2"
  },
  {
   "metadata": {},
   "cell_type": "code",
   "outputs": [],
   "execution_count": null,
   "source": [
    "# Create an empty FFNN with identifier 'my_net' and input identifier 'X'\n",
    "my_net = SequentialNetwork('my_net', 'X')"
   ],
   "id": "2667008980c520b5"
  }
 ],
 "metadata": {
  "kernelspec": {
   "display_name": "Python 3",
   "language": "python",
   "name": "python3"
  },
  "language_info": {
   "codemirror_mode": {
    "name": "ipython",
    "version": 2
   },
   "file_extension": ".py",
   "mimetype": "text/x-python",
   "name": "python",
   "nbconvert_exporter": "python",
   "pygments_lexer": "ipython2",
   "version": "2.7.6"
  }
 },
 "nbformat": 4,
 "nbformat_minor": 5
}

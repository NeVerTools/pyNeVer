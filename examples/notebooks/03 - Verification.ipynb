{
 "cells": [
  {
   "metadata": {},
   "cell_type": "markdown",
   "source": [
    "# API - Verification\n",
    "\n",
    "This notebook illustrates the main features of pyNever for verifying a specification on a NN"
   ],
   "id": "644c0233a559cbdd"
  },
  {
   "cell_type": "code",
   "id": "initial_id",
   "metadata": {
    "collapsed": true
   },
   "source": [
    "import torch\n",
    "\n",
    "# Let us reconsider the 2D neural network from the previous example\n",
    "from pynever import networks, nodes\n",
    "from pynever.strategies.verification import properties\n",
    "\n",
    "w = torch.Tensor([[1, 1], [-1, 1]])\n",
    "b = torch.zeros(2)\n",
    "\n",
    "nn = networks.SequentialNetwork('nn', 'x')\n",
    "nn.append_node(nodes.FullyConnectedNode('fc', (2,), 2, weight=w, bias=b))\n",
    "nn.append_node(nodes.ReLUNode('relu', (2,)))\n",
    "\n",
    "# And the property\n",
    "in_coef_mat = torch.Tensor([[1, 0], [-1, 0], [0, 1], [0, -1]])\n",
    "in_bias_mat = torch.Tensor([1, 1, 1, 1]).unsqueeze(1)\n",
    "out_coef_mat = [torch.Tensor([[-1, 0]])]\n",
    "out_bias_mat = [torch.Tensor([-2]).unsqueeze(1)]\n",
    "\n",
    "my_prop = properties.NeverProperty(in_coef_mat, in_bias_mat, out_coef_mat, out_bias_mat)"
   ],
   "outputs": [],
   "execution_count": null
  },
  {
   "metadata": {},
   "cell_type": "markdown",
   "source": [
    "## The _algorithms_ module\n",
    "\n",
    "The module _algorithms_ contains the classes to instantiate the verification problem. The main classes are __VerificationStrategy__ and __VerificationParameters__.\n",
    "\n",
    "pyNeVer provides two verification algorithms: __SSLP__ and __SSBP__.\n",
    "\n",
    "- SSLP (Star Sets with Linear Programming) is the first algorithm that we employed for complete and incomplete verification of feed-forward ReLU NNs. The algorithm is described in [this paper](https://link.springer.com/article/10.1007/s00500-024-09907-5)\n",
    "- SSBP (Star Sets with Bounds Propagation) enhances SSLP with an abstraction-refinement search and symbolic interval propagation. This is the algorithm used in VNNCOMP 2024.\n",
    "\n",
    "Each algorithm has corresponding parameters to run. The classes __SSLPVerification__ and __SSBPVerification__ will require their __SSLPVerificationParameters__ and __SSBPVerificationParameters__, respectively."
   ],
   "id": "246d8eb642b865cc"
  },
  {
   "metadata": {},
   "cell_type": "code",
   "source": [
    "from pynever.strategies.verification.algorithms import SSLPVerification, SSLPVerificationParameters, SSBPVerification, SSBPVerificationParameters\n",
    "\n",
    "# SSLPVerification allows 3 heuristics:\n",
    "# complete - all unstable neurons are split and processed (default)\n",
    "# overapprox - all unstable neurons are approximated\n",
    "# mixed - some unstable neurons are split and processed. In this case, neurons_to_refine\n",
    "# specifies how many neurons in each layer are to process.\n",
    "params = SSLPVerificationParameters(heuristic='complete', neurons_to_refine=None)\n",
    "strategy = SSLPVerification(params)\n",
    "\n",
    "# Let's intercept the logger\n",
    "import logging\n",
    "import sys\n",
    "\n",
    "logger = logging.getLogger('pynever')\n",
    "logger.setLevel(logging.INFO)\n",
    "logger.addHandler(logging.StreamHandler(sys.stdout))\n",
    "\n",
    "# To run verification, just all the verify() method\n",
    "strategy.verify(nn, my_prop)"
   ],
   "id": "9a3560240b193981",
   "outputs": [],
   "execution_count": null
  },
  {
   "metadata": {},
   "cell_type": "markdown",
   "source": "In this case the property is not verified because the output reaches the extreme x0 = 2. If we shift the property a little...",
   "id": "79c923e2ced3305e"
  },
  {
   "metadata": {},
   "cell_type": "code",
   "source": [
    "out_bias_mat = [torch.Tensor([-2.1]).unsqueeze(1)]\n",
    "\n",
    "my_prop = properties.NeverProperty(in_coef_mat, in_bias_mat, out_coef_mat, out_bias_mat)\n",
    "\n",
    "strategy.verify(nn, my_prop)"
   ],
   "id": "e8d9974972bee491",
   "outputs": [],
   "execution_count": null
  },
  {
   "metadata": {},
   "cell_type": "markdown",
   "source": [
    "The SSBP algorithm gives the same results, but is generally faster.\n",
    "\n",
    "SSBPVerification parameters can be tuned to improve the performance on bigger networks:\n",
    "\n",
    "- heuristic: defines the refinement strategy in the search algorithm. \"SEQUENTIAL\" refinement refines each neuron in the order they appear in the network; \"LOWEST_APPROX\" selects the neuron that contributes with the lowest approximation; \"LOWEST_APPROX_CURRENT_LAYER\" selects the neuron that contributes with the lowest approximation in the layer; \"INPUT_BOUNDS_CHANGE\" selects the neuron that contributes most to change the input bounds when refined.\n",
    "- bounds: defines the way bounds are computed (only symbolic interval propagation is used now)\n",
    "- bounds_direction: defines how to compute the bounds. Forward bounds are faster, but backward bounds are more precise with deep networks.\n",
    "- intersection: defines the way the output intersection is computed with increasing complexity and precision. \"STAR_LP\" uses a full LP to check the intersection; \"ADAPTIVE\" uses different checks based on the state of the problem.\n",
    "- timeout: a timeout in seconds for the search algorithm"
   ],
   "id": "533921558637e3c5"
  },
  {
   "metadata": {},
   "cell_type": "code",
   "source": [
    "# Default values for parameters are: heuristic=SEQUENTIAL, bounds=SYMBOLIC,\n",
    "# bounds_direction=FORWARDS, intersection=ADAPTIVE, timeout=300\n",
    "strategy = SSBPVerification(SSBPVerificationParameters())\n",
    "strategy.verify(nn, my_prop)"
   ],
   "id": "6618bdbbd07ec880",
   "outputs": [],
   "execution_count": null
  }
 ],
 "metadata": {
  "kernelspec": {
   "display_name": "Python 3",
   "language": "python",
   "name": "python3"
  },
  "language_info": {
   "codemirror_mode": {
    "name": "ipython",
    "version": 2
   },
   "file_extension": ".py",
   "mimetype": "text/x-python",
   "name": "python",
   "nbconvert_exporter": "python",
   "pygments_lexer": "ipython2",
   "version": "2.7.6"
  }
 },
 "nbformat": 4,
 "nbformat_minor": 5
}

{
 "cells": [
  {
   "metadata": {},
   "cell_type": "markdown",
   "source": [
    "# API - Networks\n",
    "\n",
    "This notebook illustrates the main features of pyNeVer for the creation of a neural network"
   ],
   "id": "7386e4bcb1b4c027"
  },
  {
   "metadata": {},
   "cell_type": "markdown",
   "source": [
    "## The _networks_ module\n",
    "\n",
    "The module *networks* contains the classes __SequentialNetwork__ and __AcyclicNetwork__ to represent feed-forward and residual neural networks, respectively. Both subclass the abstract class __NeuralNetwork__ that provides base methods and utilities."
   ],
   "id": "180d25f1124192a2"
  },
  {
   "metadata": {},
   "cell_type": "code",
   "source": [
    "from pynever.networks import NeuralNetwork, SequentialNetwork, AcyclicNetwork\n",
    "\n",
    "# Create an empty FF network with identifier 'my_net' and input identifier 'X'\n",
    "my_ff_net = SequentialNetwork('my_awesome_ff_net', 'X')\n",
    "\n",
    "# Create an empty ResNet. Notice that the input identifiers are in a list to allow multiple inputs.\n",
    "my_res_net = AcyclicNetwork('my_awesome_res_net', ['X_a', 'X_b'])\n",
    "\n",
    "print(my_ff_net)\n",
    "print(my_res_net)\n",
    "\n",
    "print(isinstance(my_ff_net, NeuralNetwork))\n",
    "print(isinstance(my_res_net, NeuralNetwork))"
   ],
   "id": "b63800010ce3b95a",
   "outputs": [],
   "execution_count": null
  },
  {
   "metadata": {},
   "cell_type": "markdown",
   "source": [
    "## The _nodes_ module\n",
    "\n",
    "The module *nodes* contains the definition of NN layers as nodes in the computational graph. For the list of all supported layers, see [the documentation](http://www.neuralverification.org/pynever/API/1_Nodes.html). All nodes require a string identifier and the definition of the input dimension: the neural network object contains no information about this."
   ],
   "id": "2c88535153a53d36"
  },
  {
   "metadata": {},
   "cell_type": "code",
   "source": [
    "from pynever import nodes\n",
    "import torch\n",
    "\n",
    "w = torch.Tensor([[1, 1], [-1, 1]])\n",
    "b = torch.zeros(2)\n",
    "\n",
    "# Create a fully connected layer with 2 inputs and 2 neurons.\n",
    "# The input dimension in_dim is always a tuple\n",
    "fc = nodes.FullyConnectedNode(identifier='fc', in_dim=(2,), out_features=2, weight=w, bias=b)\n",
    "\n",
    "# Add it to the ff network\n",
    "my_ff_net.append_node(fc)\n",
    "# Let's add a ReLU layer now\n",
    "my_ff_net.append_node(nodes.ReLUNode('relu', (2,)))\n",
    "\n",
    "print(my_ff_net)"
   ],
   "id": "2667008980c520b5",
   "outputs": [],
   "execution_count": null
  },
  {
   "metadata": {},
   "cell_type": "markdown",
   "source": [
    "## Residual networks\n",
    "\n",
    "For ResNets we provide a different method to add layers: *add_node* allows to specify the layer parents and, possibly, children"
   ],
   "id": "a8b5ddea7d01fad7"
  },
  {
   "metadata": {},
   "cell_type": "code",
   "source": [
    "rl = nodes.ReLUNode('relu', (2,))\n",
    "fc_2 = nodes.FullyConnectedNode('fc_2', (2,), 2, weight=w, bias=b)\n",
    "rl_2 = nodes.ReLUNode('relu_2', (2,))\n",
    "\n",
    "my_res_net.add_node(fc)  # This is the first layer\n",
    "my_res_net.add_node(rl, [fc])  # Layer rl follows fc\n",
    "my_res_net.add_node(fc_2, [rl])  # Layer fc_2 follows rl\n",
    "my_res_net.add_node(rl_2, [fc, fc_2])  # Layer rl_2 has a skip connection and has as parents both fc and fc_2\n",
    "\n",
    "print(my_res_net)\n",
    "\n",
    "# A few utility methods\n",
    "print(f'Topological sort: {my_res_net.get_topological_order()}')\n",
    "print(f'Parents of rl_2:  {my_res_net.get_parents(rl_2)}')\n",
    "print(f'Children of fc:   {my_res_net.get_children(fc)}')\n",
    "print(f'Leaves of the nn: {my_res_net.get_leaves()}')"
   ],
   "id": "fedaca77cdea61f",
   "outputs": [],
   "execution_count": null
  }
 ],
 "metadata": {
  "kernelspec": {
   "display_name": "Python 3",
   "language": "python",
   "name": "python3"
  },
  "language_info": {
   "codemirror_mode": {
    "name": "ipython",
    "version": 2
   },
   "file_extension": ".py",
   "mimetype": "text/x-python",
   "name": "python",
   "nbconvert_exporter": "python",
   "pygments_lexer": "ipython2",
   "version": "2.7.6"
  }
 },
 "nbformat": 4,
 "nbformat_minor": 5
}

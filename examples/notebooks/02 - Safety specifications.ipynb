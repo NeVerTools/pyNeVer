{
 "cells": [
  {
   "metadata": {},
   "cell_type": "markdown",
   "source": [
    "# API - Properties\n",
    "\n",
    "This notebook illustrates the main features of pyNeVer for defining a specification to create a verification benchmark"
   ],
   "id": "188327c0fbf1ad15"
  },
  {
   "metadata": {},
   "cell_type": "markdown",
   "source": [
    "## The _properties_ module\n",
    "\n",
    "The module _properties_ contains the classes to create and load verification properties"
   ],
   "id": "96e436a3e47cf330"
  },
  {
   "cell_type": "code",
   "id": "initial_id",
   "metadata": {
    "collapsed": true,
    "ExecuteTime": {
     "end_time": "2025-06-11T15:05:27.421177Z",
     "start_time": "2025-06-11T15:05:27.416610Z"
    }
   },
   "source": [
    "import torch\n",
    "from pynever.strategies.verification import properties\n",
    "\n",
    "# Let us reconsider the 2D neural network from the previous example\n",
    "from pynever import networks\n",
    "from pynever import nodes\n",
    "\n",
    "w = torch.Tensor([[1, 1], [-1, 1]])\n",
    "b = torch.zeros(2)\n",
    "\n",
    "nn = networks.SequentialNetwork('nn', 'x')\n",
    "nn.append_node(nodes.FullyConnectedNode('fc', (2,), 2, weight=w, bias=b))\n",
    "nn.append_node(nodes.ReLUNode('relu', (2,)))"
   ],
   "outputs": [],
   "execution_count": 4
  },
  {
   "metadata": {},
   "cell_type": "markdown",
   "source": [
    "The base class __NeverProperty__ defines the constraints on the input and on the output as a system of linear inequalities for the input and a set of systems for the output.\n",
    "\n",
    "The components are the following:\n",
    "- _in_coef_mat_ is the coefficient matrix for the input variables\n",
    "- _in_bias_mat_ is the bias array for the input variables\n",
    "- _out_coef_mat_ is a list of coefficient matrices for the output variables\n",
    "- _out_bias_mat_ is a list of bias arrays for the output variables\n",
    "\n",
    "The difference between inputs and outputs is that - as output specifications define the unsafe zone - the constraints on the output can be expressed as a disjunction, each a component of the list."
   ],
   "id": "5abad5aac2e783ff"
  },
  {
   "metadata": {},
   "cell_type": "code",
   "source": [
    "# Input specification: -1 <= x0 <= 1, -1 <= x1 <= 1\n",
    "# expressed in normal form as Cx <= d\n",
    "in_coef_mat = torch.Tensor([[1, 0], [-1, 0], [0, 1], [0, -1]])\n",
    "in_bias_mat = torch.Tensor([1, 1, 1, 1])\n",
    "\n",
    "# Output specification: y0 >= 2 (single statement)\n",
    "out_coef_mat = [torch.Tensor([[-1, 0]])]\n",
    "out_bias_mat = [torch.Tensor([-2])]\n",
    "\n",
    "# Create the property\n",
    "my_prop = properties.NeverProperty(in_coef_mat, in_bias_mat, out_coef_mat, out_bias_mat)"
   ],
   "id": "d822e3b9aa96da93",
   "outputs": [],
   "execution_count": null
  },
  {
   "metadata": {},
   "cell_type": "markdown",
   "source": "It is also possible to directly load a VNNLIB specification from file using the class __VnnLibProperty__. The file extension can be .txt, .vnnlib, .smt2 or any plaintext format",
   "id": "88cfa8a3248c948a"
  },
  {
   "metadata": {},
   "cell_type": "code",
   "outputs": [],
   "execution_count": null,
   "source": [
    "my_vnnlib_prop = properties.VnnLibProperty('prop.vnnlib')\n",
    "\n",
    "# VnnLibProperty subclasses NeverProperty: the matrices are read from a file\n",
    "my_vnnlib_prop.in_coef_mat == in_coef_mat"
   ],
   "id": "7e935714e0758553"
  },
  {
   "metadata": {},
   "cell_type": "markdown",
   "source": "To create local robustness properties, one can load a sample and create the L-inf noise ball for each variable",
   "id": "da109b4ea87b75c6"
  }
 ],
 "metadata": {
  "kernelspec": {
   "display_name": "Python 3",
   "language": "python",
   "name": "python3"
  },
  "language_info": {
   "codemirror_mode": {
    "name": "ipython",
    "version": 2
   },
   "file_extension": ".py",
   "mimetype": "text/x-python",
   "name": "python",
   "nbconvert_exporter": "python",
   "pygments_lexer": "ipython2",
   "version": "2.7.6"
  }
 },
 "nbformat": 4,
 "nbformat_minor": 5
}

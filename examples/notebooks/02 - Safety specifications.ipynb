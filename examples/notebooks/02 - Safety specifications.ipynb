{
 "cells": [
  {
   "metadata": {},
   "cell_type": "markdown",
   "source": [
    "# API - Properties\n",
    "\n",
    "This notebook illustrates the main features of pyNeVer for defining a specification to create a verification benchmark"
   ],
   "id": "188327c0fbf1ad15"
  },
  {
   "metadata": {},
   "cell_type": "markdown",
   "source": [
    "## The _properties_ module\n",
    "\n",
    "The module _properties_ contains the classes to create and load verification properties"
   ],
   "id": "96e436a3e47cf330"
  },
  {
   "cell_type": "code",
   "id": "initial_id",
   "metadata": {
    "collapsed": true
   },
   "source": [
    "import torch\n",
    "from pynever.strategies.verification import properties"
   ],
   "outputs": [],
   "execution_count": null
  },
  {
   "metadata": {},
   "cell_type": "markdown",
   "source": [
    "The base class __NeverProperty__ defines the constraints on the input and on the output as a set of linear inequalities for the input and a set of sets of linear inequalities for the output.\n",
    "The difference between inputs and outputs is that - as output specifications define the unsafe zone - the constraints on the output can be expressed as a disjunction, each a component of the set.\n",
    "\n",
    "The components are the following:\n",
    "- _in_coef_mat_ is the coefficient matrix for the input variables\n",
    "- _in_bias_mat_ is the bias array for the input variables\n",
    "- _out_coef_mat_ is a list of coefficient matrices for the output variables\n",
    "- _out_bias_mat_ is a list of bias arrays for the output variables\n",
    "\n"
   ],
   "id": "5abad5aac2e783ff"
  },
  {
   "metadata": {},
   "cell_type": "code",
   "source": [
    "# Input specification: -1 <= x0 <= 1, -1 <= x1 <= 1\n",
    "# expressed in normal form as Cx <= d\n",
    "in_coef_mat = torch.Tensor([[1, 0], [-1, 0], [0, 1], [0, -1]])\n",
    "in_bias_mat = torch.Tensor([1, 1, 1, 1]).unsqueeze(1)\n",
    "\n",
    "# Output specification: y0 >= 2 (single statement)\n",
    "out_coef_mat = [torch.Tensor([[-1, 0]])]\n",
    "out_bias_mat = [torch.Tensor([-2]).unsqueeze(1)]\n",
    "\n",
    "# Create the property\n",
    "my_prop = properties.NeverProperty(in_coef_mat, in_bias_mat, out_coef_mat, out_bias_mat)"
   ],
   "id": "d822e3b9aa96da93",
   "outputs": [],
   "execution_count": null
  },
  {
   "metadata": {},
   "cell_type": "markdown",
   "source": "It is also possible to directly load a VNNLIB specification from file using the class __VnnLibProperty__. The file extension can be .txt, .vnnlib, .smt2 or any plaintext format",
   "id": "88cfa8a3248c948a"
  },
  {
   "metadata": {},
   "cell_type": "code",
   "source": [
    "my_vnnlib_prop = properties.VnnLibProperty('prop.vnnlib')\n",
    "\n",
    "# VnnLibProperty subclasses NeverProperty: the matrices are read from a file\n",
    "my_vnnlib_prop.in_coef_mat == in_coef_mat"
   ],
   "id": "7e935714e0758553",
   "outputs": [],
   "execution_count": null
  },
  {
   "metadata": {},
   "cell_type": "markdown",
   "source": "To create local robustness properties, one can load a sample and create the L-inf noise ball for each variable",
   "id": "da109b4ea87b75c6"
  },
  {
   "metadata": {},
   "cell_type": "code",
   "source": [
    "noise = 0.1\n",
    "sample = torch.Tensor([0.3, 0.5])\n",
    "\n",
    "in_coef_mat = torch.Tensor([[1, 0], [-1, 0], [0, 1], [0, -1]])\n",
    "in_bias_mat = torch.Tensor([sample[0] + noise,\n",
    "                            sample[0] - noise,\n",
    "                            sample[1] + noise,\n",
    "                            sample[1] - noise]).unsqueeze(1)\n",
    "\n",
    "\"\"\"This corresponds to 0.2 <= x0 <= 0.4 & 0.4 <= x1 <= 0.6\"\"\"\n",
    "\n",
    "# Output specification: y0 >= 2 (single statement)\n",
    "out_coef_mat = [torch.Tensor([[-1, 0]])]\n",
    "out_bias_mat = [torch.Tensor([-2]).unsqueeze(1)]\n",
    "\n",
    "# Create the property\n",
    "my_prop = properties.NeverProperty(in_coef_mat, in_bias_mat, out_coef_mat, out_bias_mat)\n",
    "print(my_prop.in_coef_mat)\n",
    "print(my_prop.in_bias_mat)"
   ],
   "id": "67d8a9d42dc98336",
   "outputs": [],
   "execution_count": null
  }
 ],
 "metadata": {
  "kernelspec": {
   "display_name": "Python 3",
   "language": "python",
   "name": "python3"
  },
  "language_info": {
   "codemirror_mode": {
    "name": "ipython",
    "version": 2
   },
   "file_extension": ".py",
   "mimetype": "text/x-python",
   "name": "python",
   "nbconvert_exporter": "python",
   "pygments_lexer": "ipython2",
   "version": "2.7.6"
  }
 },
 "nbformat": 4,
 "nbformat_minor": 5
}

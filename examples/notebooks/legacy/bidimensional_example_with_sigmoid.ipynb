{
 "cells": [
  {
   "cell_type": "code",
   "execution_count": 6,
   "metadata": {},
   "outputs": [
    {
     "name": "stdout",
     "output_type": "stream",
     "text": [
      "\n",
      "FC_NET_1_1_1_1\n",
      "\n"
     ]
    },
    {
     "data": {
      "image/png": "[encoded data removed]",
      "text/plain": [
       "<Figure size 432x288 with 1 Axes>"
      ]
     },
     "metadata": {
      "needs_background": "light"
     },
     "output_type": "display_data"
    },
    {
     "name": "stdout",
     "output_type": "stream",
     "text": [
      "<pynever.strategies.abstraction.AbsFullyConnectedNode object at 0x7f4097940e80>\n",
      "Forward ended\n"
     ]
    },
    {
     "data": {
      "image/png": "[encoded data removed]",
      "text/plain": [
       "<Figure size 432x288 with 1 Axes>"
      ]
     },
     "metadata": {
      "needs_background": "light"
     },
     "output_type": "display_data"
    },
    {
     "name": "stdout",
     "output_type": "stream",
     "text": [
      "<pynever.strategies.abstraction.StarSet object at 0x7f40949b91f0>\n"
     ]
    },
    {
     "ename": "AttributeError",
     "evalue": "'Star' object has no attribute 'stars'",
     "output_type": "error",
     "traceback": [
      "\u001b[0;31m---------------------------------------------------------------------------\u001b[0m",
      "\u001b[0;31mAttributeError\u001b[0m                            Traceback (most recent call last)",
      "\u001b[0;32m<ipython-input-6-c9a9ddb34d5d>\u001b[0m in \u001b[0;36m<module>\u001b[0;34m\u001b[0m\n\u001b[1;32m    130\u001b[0m         \u001b[0mprint\u001b[0m\u001b[0;34m(\u001b[0m\u001b[0mabs_input\u001b[0m\u001b[0;34m)\u001b[0m\u001b[0;34m\u001b[0m\u001b[0;34m\u001b[0m\u001b[0m\n\u001b[1;32m    131\u001b[0m         \u001b[0;32mfor\u001b[0m \u001b[0mstar\u001b[0m \u001b[0;32min\u001b[0m \u001b[0mabs_input\u001b[0m\u001b[0;34m.\u001b[0m\u001b[0mstars\u001b[0m\u001b[0;34m:\u001b[0m\u001b[0;34m\u001b[0m\u001b[0;34m\u001b[0m\u001b[0m\n\u001b[0;32m--> 132\u001b[0;31m             \u001b[0maux_points\u001b[0m \u001b[0;34m=\u001b[0m \u001b[0mget_extreme_points\u001b[0m\u001b[0;34m(\u001b[0m\u001b[0mstar\u001b[0m\u001b[0;34m)\u001b[0m\u001b[0;34m\u001b[0m\u001b[0;34m\u001b[0m\u001b[0m\n\u001b[0m\u001b[1;32m    133\u001b[0m             \u001b[0mplot_convex_hull\u001b[0m\u001b[0;34m(\u001b[0m\u001b[0maux_points\u001b[0m\u001b[0;34m)\u001b[0m\u001b[0;34m\u001b[0m\u001b[0;34m\u001b[0m\u001b[0m\n\u001b[1;32m    134\u001b[0m         \u001b[0mcurrent_node\u001b[0m \u001b[0;34m=\u001b[0m \u001b[0mabs_net\u001b[0m\u001b[0;34m.\u001b[0m\u001b[0mget_next_node\u001b[0m\u001b[0;34m(\u001b[0m\u001b[0mcurrent_node\u001b[0m\u001b[0;34m)\u001b[0m\u001b[0;34m\u001b[0m\u001b[0;34m\u001b[0m\u001b[0m\n",
      "\u001b[0;32m<ipython-input-6-c9a9ddb34d5d>\u001b[0m in \u001b[0;36mget_extreme_points\u001b[0;34m(p_starset)\u001b[0m\n\u001b[1;32m     38\u001b[0m \u001b[0;32mdef\u001b[0m \u001b[0mget_extreme_points\u001b[0m\u001b[0;34m(\u001b[0m\u001b[0mp_starset\u001b[0m\u001b[0;34m:\u001b[0m \u001b[0mabst\u001b[0m\u001b[0;34m.\u001b[0m\u001b[0mStarSet\u001b[0m\u001b[0;34m)\u001b[0m\u001b[0;34m:\u001b[0m\u001b[0;34m\u001b[0m\u001b[0;34m\u001b[0m\u001b[0m\n\u001b[1;32m     39\u001b[0m     \u001b[0mx_vertexes\u001b[0m \u001b[0;34m=\u001b[0m \u001b[0;34m[\u001b[0m\u001b[0;34m]\u001b[0m\u001b[0;34m\u001b[0m\u001b[0;34m\u001b[0m\u001b[0m\n\u001b[0;32m---> 40\u001b[0;31m     \u001b[0;32mfor\u001b[0m \u001b[0mp_star\u001b[0m \u001b[0;32min\u001b[0m \u001b[0mp_starset\u001b[0m\u001b[0;34m.\u001b[0m\u001b[0mstars\u001b[0m\u001b[0;34m:\u001b[0m\u001b[0;34m\u001b[0m\u001b[0;34m\u001b[0m\u001b[0m\n\u001b[0m\u001b[1;32m     41\u001b[0m         \u001b[0malpha_vertexes\u001b[0m \u001b[0;34m=\u001b[0m \u001b[0mpypoman\u001b[0m\u001b[0;34m.\u001b[0m\u001b[0mcompute_polytope_vertices\u001b[0m\u001b[0;34m(\u001b[0m\u001b[0mp_star\u001b[0m\u001b[0;34m.\u001b[0m\u001b[0mpredicate_matrix\u001b[0m\u001b[0;34m,\u001b[0m \u001b[0mp_star\u001b[0m\u001b[0;34m.\u001b[0m\u001b[0mpredicate_bias\u001b[0m\u001b[0;34m)\u001b[0m\u001b[0;34m\u001b[0m\u001b[0;34m\u001b[0m\u001b[0m\n\u001b[1;32m     42\u001b[0m         \u001b[0;32mfor\u001b[0m \u001b[0mv\u001b[0m \u001b[0;32min\u001b[0m \u001b[0malpha_vertexes\u001b[0m\u001b[0;34m:\u001b[0m\u001b[0;34m\u001b[0m\u001b[0;34m\u001b[0m\u001b[0m\n",
      "\u001b[0;31mAttributeError\u001b[0m: 'Star' object has no attribute 'stars'"
     ]
    }
   ],
   "source": [
    "import numpy as np\n",
    "import matplotlib.pyplot as plt\n",
    "import pypoman\n",
    "import scipy.spatial\n",
    "\n",
    "import pynever.strategies.abstraction as abst\n",
    "import pynever.nodes as nodes\n",
    "\n",
    "\n",
    "def plot_starset(p_starset: abst.StarSet):\n",
    "    for p_star in p_starset.stars:\n",
    "\n",
    "        alpha_vertexes = pypoman.compute_polytope_vertices(p_star.predicate_matrix, p_star.predicate_bias)\n",
    "        x_vertexes = []\n",
    "        for v in alpha_vertexes:\n",
    "            v_ver = np.zeros((v.shape[0], 1))\n",
    "            for k in range(v.shape[0]):\n",
    "                v_ver[k, 0] = v[k]\n",
    "            new_x_v = p_star.center + np.matmul(p_star.basis_matrix, v_ver)\n",
    "            x_vertexes.append(new_x_v)\n",
    "\n",
    "        x1_plot = []\n",
    "        x2_plot = []\n",
    "        for v in x_vertexes:\n",
    "            x1_plot.append(v[0, 0])\n",
    "            x2_plot.append(v[1, 0])\n",
    "\n",
    "        for k in range(len(x1_plot)):\n",
    "            for j in range(len(x1_plot)):\n",
    "                plt.plot([x1_plot[k], x1_plot[j]], [x2_plot[k], x2_plot[j]])\n",
    "\n",
    "        plt.scatter(x1_plot, x2_plot)\n",
    "\n",
    "    plt.grid()\n",
    "    plt.show()\n",
    "\n",
    "\n",
    "def get_extreme_points(p_starset: abst.StarSet):\n",
    "    x_vertexes = []\n",
    "    for p_star in p_starset.stars:\n",
    "        alpha_vertexes = pypoman.compute_polytope_vertices(p_star.predicate_matrix, p_star.predicate_bias)\n",
    "        for v in alpha_vertexes:\n",
    "            v_ver = np.zeros((v.shape[0], 1))\n",
    "            for k in range(v.shape[0]):\n",
    "                v_ver[k, 0] = v[k]\n",
    "            new_x_v = p_star.center + np.matmul(p_star.basis_matrix, v_ver)\n",
    "            new_x_v = np.array([new_x_v[0, 0], new_x_v[1, 0]])\n",
    "            x_vertexes.append(new_x_v)\n",
    "\n",
    "    x_vertexes = np.array(x_vertexes)\n",
    "    return x_vertexes\n",
    "\n",
    "\n",
    "def plot_convex_hull(points: np.ndarray):\n",
    "    hull = scipy.spatial.ConvexHull(points)\n",
    "    vertexes = points[hull.vertices, :]\n",
    "    vertexes = np.vstack((vertexes, vertexes[0, :]))\n",
    "    plt.plot(vertexes[:, 0], vertexes[:, 1])\n",
    "    plt.grid()\n",
    "    plt.show()\n",
    "\n",
    "\n",
    "# Bidimensional Example with abstract verification\n",
    "\n",
    "weight_matrix_1 = np.ones((2, 2))\n",
    "weight_matrix_2 = np.ones((2, 2))\n",
    "# weight_matrix_3 = np.ones((2, 2))\n",
    "weight_matrix_3 = np.zeros((2, 2))\n",
    "\n",
    "weight_matrix_1[1, 1] = -1\n",
    "weight_matrix_2[1, 1] = -1\n",
    "# weight_matrix_3[0, 1] = 0\n",
    "weight_matrix_3[0, 0] = 1.0 / 5.0\n",
    "weight_matrix_3[0, 1] = 1.0 / 5.0\n",
    "weight_matrix_3[1, 0] = 2\n",
    "\n",
    "bias_1 = np.zeros(2)\n",
    "bias_2 = np.zeros(2)\n",
    "bias_3 = [-0.4, -2]\n",
    "\n",
    "net_names = [\"FC_NET_1_1_1_1\"]\n",
    "\n",
    "neuron_relevance = True\n",
    "refinement_percentage = 1\n",
    "\n",
    "final_hulls = []\n",
    "for i in range(len(net_names)):\n",
    "\n",
    "    print(\"\\n\" + net_names[i] + \"\\n\")\n",
    "\n",
    "    abs_net = abst.AbsSeqNetwork(net_names[i])\n",
    "\n",
    "    abs_net.add_node(\n",
    "        abst.AbsFullyConnectedNode(\"AbsFC_1\", nodes.FullyConnectedNode(\"FC_1\", (2,), 2, weight_matrix_1, bias_1)))\n",
    "\n",
    "    abs_net.add_node(abst.AbsReLUNode(\"AbsReLU_1\", nodes.ReLUNode(\"ReLU_1\", (2,)), \"best_n_neurons\", [10]))\n",
    "\n",
    "    abs_net.add_node(\n",
    "        abst.AbsFullyConnectedNode(\"AbsFC_2\", nodes.FullyConnectedNode(\"FC_2\", (2,), 2, weight_matrix_2, bias_2)))\n",
    "\n",
    "    abs_net.add_node(abst.AbsReLUNode(\"AbsReLU_2\", nodes.ReLUNode(\"ReLU_1\", (2,)), \"best_n_neurons\", [10]))\n",
    "\n",
    "    #abs_net.add_node(\n",
    "    #    abst.AbsFullyConnectedNode(\"AbsFC_3\", nodes.FullyConnectedNode(\"FC_3\", 2, 2, weight_matrix_3, bias_3)))\n",
    "\n",
    "    #abs_net.add_node(abst.AbsSigmoidNode(\"AbsSig_1\", nodes.SigmoidNode(\"Sig_1\", 2), approx_levels=2))\n",
    "\n",
    "    C = np.zeros((4, 2))\n",
    "    C[0, 0] = 1\n",
    "    C[1, 0] = -1\n",
    "    C[2, 1] = 1\n",
    "    C[3, 1] = -1\n",
    "\n",
    "    d = np.ones((4, 1))\n",
    "    d[0, 0] = 1\n",
    "    d[1, 0] = 1\n",
    "    d[2, 0] = 1\n",
    "    d[3, 0] = 1\n",
    "\n",
    "    star = abst.Star(C, d)\n",
    "    abs_input = abst.StarSet({star})\n",
    "    current_node = abs_net.get_first_node()\n",
    "    aux_points = get_extreme_points(abs_input)\n",
    "    plot_convex_hull(aux_points)\n",
    "    while current_node is not None:\n",
    "        print(current_node)\n",
    "        abs_input = current_node.forward(abs_input)\n",
    "        print(\"Forward ended\")\n",
    "        plot_starset(abs_input)\n",
    "        print(abs_input)\n",
    "        for star in abs_input.stars:\n",
    "            aux_points = get_extreme_points(star)\n",
    "            plot_convex_hull(aux_points)\n",
    "        current_node = abs_net.get_next_node(current_node)"
   ]
  }
 ],
 "metadata": {
  "kernelspec": {
   "display_name": "Python 3",
   "language": "python",
   "name": "python3"
  },
  "language_info": {
   "codemirror_mode": {
    "name": "ipython",
    "version": 3
   },
   "file_extension": ".py",
   "mimetype": "text/x-python",
   "name": "python",
   "nbconvert_exporter": "python",
   "pygments_lexer": "ipython3",
   "version": "3.8.5"
  }
 },
 "nbformat": 4,
 "nbformat_minor": 4
}
